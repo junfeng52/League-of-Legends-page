{
 "cells": [
  {
   "cell_type": "code",
   "execution_count": 1,
   "metadata": {},
   "outputs": [],
   "source": [
    "import pandas as pd\n",
    "from pandasgui import show\n",
    "import os"
   ]
  },
  {
   "cell_type": "code",
   "execution_count": 2,
   "metadata": {},
   "outputs": [],
   "source": [
    "csvfile = pd.read_csv(\"champtext.csv\", index_col= 0)"
   ]
  },
  {
   "cell_type": "code",
   "execution_count": 3,
   "metadata": {},
   "outputs": [],
   "source": [
    "names = csvfile.index.values"
   ]
  },
  {
   "cell_type": "code",
   "execution_count": 4,
   "metadata": {},
   "outputs": [],
   "source": [
    "os.makedirs(\"../Champions\", exist_ok=True)\n",
    "\n",
    "for name in names:\n",
    "    data = csvfile.loc[name]\n",
    "    with open(f\"../Champions/{name.upper()}.html\", mode=\"w\") as filehtml:\n",
    "        page = []\n",
    "        page.append(f'<html>\\n\\n<head>\\n\\t<title>{name}</title>\\n\\t<link rel=\"stylesheet\" href=\"../css/Chamstyle.css\">\\n</head>\\n')\n",
    "        page.append(\"\"\"<body>\\n\\t<button id=\"button\" type=\"button\" onclick=\"window.location.href='../index.html'\">Atras</button>\\n\\t<div id=\"main\">\\n\\t\\t<div class=\"container\">\"\"\")\n",
    "        page.append(f'\\t\\t\\t<div class=\"img\"><img src=\"img/{name.lower()}/{name}_0.jpg\"></div>')\n",
    "        page.append(f'\\t\\t\\t<div class=\"text1\">\\n\\t\\t\\t\\t<span class=\"span\">{data[\"Title\"].upper()}</span><br><b>{name.upper()}</b></br>\\n\\t\\t\\t</div>\\n')\n",
    "        page.append(f'\\t\\t\\t<div>\\n\\t\\t\\t\\t<h1>ABILITIES</h1>')\n",
    "        for spell in [\"P\",\"Q\",\"W\",\"E\",\"R\"]:\n",
    "            spells = {\"P\": \"Pasive\", \"Q\": \"Ability Q\", \"W\": \"Ability W\", \"E\": \"Ability E\", \"R\": \"Ability R\"}\n",
    "            page.append(f'\\n\\t\\t\\t\\t<div class=\"h\">')\n",
    "            page.append(f'\\t\\t\\t\\t\\t<div class=\"habilidades\"><img src=\"img/{name.lower()}/{name}_{spell}.png\"></div>')\n",
    "            page.append(f'\\t\\t\\t\\t\\t<div class=\"lh\">')\n",
    "            page.append(f'\\t\\t\\t\\t\\t\\t<p class=\"kn\">{spells[spell]}</p>')\n",
    "            page.append(f'\\t\\t\\t\\t\\t\\t<p class=\"hn\">{data[f\"{spell}\"]}</p>')\n",
    "            page.append(f'\\t\\t\\t\\t\\t\\t<p class=\"hr\">{data[f\"{spell}D\"]}</p>')\n",
    "            page.append(f'\\t\\t\\t\\t\\t</div>\\n\\t\\t\\t\\t</div>')\n",
    "        page.append(\"\\t\\t\\t</div>\\n\\t\\t</div>\\n\\t</div>\\n</body>\\n\\n</html>\")\n",
    "        filehtml.write(\"\\n\".join(page))"
   ]
  },
  {
   "cell_type": "code",
   "execution_count": null,
   "metadata": {},
   "outputs": [],
   "source": [
    "\"\"\"\n",
    "with open(\"pruebamain.html\", mode=\"w\") as filehtml:\n",
    "    page = []\n",
    "    page.append('<html>\\n\\n<head>\\n\\t<title>Practica </title>\\n\\t<link rel=\"stylesheet\" href=\"css/Style.css\">\\n</head>\\n')\n",
    "    page.append('<body>\\n\\t<h1 id=\"title\">League of Legends</h1>\\n\\t<h2>Champions</h2>\\n\\t<div id=\"div1\">')\n",
    "    for name in names:\n",
    "        chhtml = f'\\t\\t<div class=\"champ\">\\n\\t\\t\\t<a href=\"Champions/{name.upper()}.html#HechoPorJunfeng\">\\n\\t\\t\\t\\t<img src=\"Imagenes/{name}.jpg\">\\n\\t\\t\\t\\t<span>{name.upper()}</span>\\n\\t\\t\\t</a>\\n\\t\\t</div>\\n'\n",
    "        page.append(chhtml)\n",
    "    page.append(\"\\t</div>\\n</body>\\n\\n</html>\")\n",
    "    filehtml.write(\"\\n\".join(page))\n",
    "\"\"\""
   ]
  }
 ],
 "metadata": {
  "kernelspec": {
   "display_name": "lolweb",
   "language": "python",
   "name": "python3"
  },
  "language_info": {
   "codemirror_mode": {
    "name": "ipython",
    "version": 3
   },
   "file_extension": ".py",
   "mimetype": "text/x-python",
   "name": "python",
   "nbconvert_exporter": "python",
   "pygments_lexer": "ipython3",
   "version": "3.12.5"
  }
 },
 "nbformat": 4,
 "nbformat_minor": 2
}
