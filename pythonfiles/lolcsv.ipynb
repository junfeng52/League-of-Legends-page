{
 "cells": [
  {
   "cell_type": "code",
   "execution_count": 6,
   "metadata": {},
   "outputs": [],
   "source": [
    "import pandas as pd\n",
    "import numpy as np\n",
    "import re\n",
    "import requests\n",
    "import bs4\n",
    "from pandasgui import show"
   ]
  },
  {
   "cell_type": "code",
   "execution_count": null,
   "metadata": {},
   "outputs": [],
   "source": [
    "csvfile = pd.DataFrame({\"Historia\":[],\n",
    "                        \"P\":[],\n",
    "                        \"PD\":[],\n",
    "                        \"Q\":[],\n",
    "                        \"QD\":[],\n",
    "                        \"W\":[],\n",
    "                        \"WD\":[],\n",
    "                        \"E\":[],\n",
    "                        \"ED\":[],\n",
    "                        \"R\":[],\n",
    "                        \"RD\":[]})"
   ]
  },
  {
   "cell_type": "code",
   "execution_count": null,
   "metadata": {},
   "outputs": [],
   "source": [
    "def PutInfoIncsv(url):\n",
    "    chpage= requests.get(url).text\n",
    "    page = bs4.BeautifulSoup(chpage)\n",
    "\n",
    "    champtext = []\n",
    "    chamname = page.find(\"span\", {\"data-testid\":\"overview:title\"})\n",
    "    ppage= page.find_all(\"p\",{\"\"})\n",
    "    h5page = page.find_all(\"h5\")\n",
    "    chamname = str(chamname).split(\">\")[1].split(\"<\")[0]\n",
    "\n",
    "    for t in h5page:\n",
    "        text = str(t).split('\">')[1].split(\"</h5>\")[0]\n",
    "        champtext.append(text)\n",
    "        \n",
    "    for t in ppage:\n",
    "        text = str(t).split('\">')[1].split(\"</p>\")[0]\n",
    "        if text == \"Maestría de campeón\": continue\n",
    "        champtext.append(text)\n",
    "        \n",
    "    csvfile.loc[chamname] = champtext[:-abs(12-len(champtext))]\n",
    "    #show(csvfile)\n",
    "    #csvfile.to_csv(\"Hola.csv\")"
   ]
  },
  {
   "cell_type": "code",
   "execution_count": null,
   "metadata": {},
   "outputs": [
    {
     "name": "stdout",
     "output_type": "stream",
     "text": [
      "/es-es/champions/aatrox\n",
      "/es-es/champions/ahri\n",
      "/es-es/champions/akali\n",
      "/es-es/champions/akshan\n",
      "/es-es/champions/alistar\n",
      "/es-es/champions/amumu\n",
      "/es-es/champions/anivia\n",
      "/es-es/champions/annie\n",
      "/es-es/champions/aphelios\n",
      "/es-es/champions/ashe\n",
      "/es-es/champions/aurelion-sol\n",
      "/es-es/champions/azir\n",
      "/es-es/champions/bard\n",
      "/es-es/champions/bel-veth\n",
      "/es-es/champions/blitzcrank\n",
      "/es-es/champions/brand\n",
      "/es-es/champions/braum\n",
      "/es-es/champions/briar\n",
      "/es-es/champions/caitlyn\n",
      "/es-es/champions/camille\n",
      "/es-es/champions/cassiopeia\n",
      "/es-es/champions/cho-gath\n",
      "/es-es/champions/corki\n",
      "/es-es/champions/darius\n",
      "/es-es/champions/diana\n",
      "/es-es/champions/dr-mundo\n",
      "/es-es/champions/draven\n",
      "/es-es/champions/ekko\n",
      "/es-es/champions/elise\n",
      "/es-es/champions/evelynn\n",
      "/es-es/champions/ezreal\n",
      "/es-es/champions/fiddlesticks\n",
      "/es-es/champions/fiora\n",
      "/es-es/champions/fizz\n",
      "/es-es/champions/galio\n"
     ]
    }
   ],
   "source": [
    "chpages = requests.get(\"https://www.leagueoflegends.com/es-es/champions/\").text\n",
    "urls= re.findall(r\"/es-es/champions/[A-Za-z_-]+\", chpages)\n",
    "\n",
    "for link in urls:\n",
    "    try:\n",
    "        PutInfoIncsv(f\"https://www.leagueoflegends.com{link}\")\n",
    "    except:\n",
    "        print(link)"
   ]
  },
  {
   "cell_type": "code",
   "execution_count": null,
   "metadata": {},
   "outputs": [
    {
     "name": "stderr",
     "output_type": "stream",
     "text": [
      "PandasGUI INFO — pandasgui.gui — Opening PandasGUI\n",
      "C:\\Users\\liaoyang\\AppData\\Local\\Temp\\ipykernel_2064\\272893028.py:1: FutureWarning: Series.__getitem__ treating keys as positions is deprecated. In a future version, integer keys will always be treated as labels (consistent with DataFrame behavior). To access a value by position, use `ser.iloc[pos]`\n",
      "  show(csvfile)\n",
      "C:\\Users\\liaoyang\\AppData\\Local\\Temp\\ipykernel_2064\\272893028.py:1: FutureWarning: Series.__getitem__ treating keys as positions is deprecated. In a future version, integer keys will always be treated as labels (consistent with DataFrame behavior). To access a value by position, use `ser.iloc[pos]`\n",
      "  show(csvfile)\n",
      "C:\\Users\\liaoyang\\AppData\\Local\\Temp\\ipykernel_2064\\272893028.py:1: FutureWarning:\n",
      "\n",
      "Series.__getitem__ treating keys as positions is deprecated. In a future version, integer keys will always be treated as labels (consistent with DataFrame behavior). To access a value by position, use `ser.iloc[pos]`\n",
      "\n",
      "C:\\Users\\liaoyang\\AppData\\Local\\Temp\\ipykernel_2064\\272893028.py:1: FutureWarning:\n",
      "\n",
      "Series.__getitem__ treating keys as positions is deprecated. In a future version, integer keys will always be treated as labels (consistent with DataFrame behavior). To access a value by position, use `ser.iloc[pos]`\n",
      "\n",
      "C:\\Users\\liaoyang\\AppData\\Local\\Temp\\ipykernel_2064\\272893028.py:1: FutureWarning:\n",
      "\n",
      "Series.__getitem__ treating keys as positions is deprecated. In a future version, integer keys will always be treated as labels (consistent with DataFrame behavior). To access a value by position, use `ser.iloc[pos]`\n",
      "\n",
      "C:\\Users\\liaoyang\\AppData\\Local\\Temp\\ipykernel_2064\\272893028.py:1: FutureWarning:\n",
      "\n",
      "Series.__getitem__ treating keys as positions is deprecated. In a future version, integer keys will always be treated as labels (consistent with DataFrame behavior). To access a value by position, use `ser.iloc[pos]`\n",
      "\n"
     ]
    },
    {
     "data": {
      "text/plain": [
       "<pandasgui.gui.PandasGui at 0x212670bdc60>"
      ]
     },
     "execution_count": 8,
     "metadata": {},
     "output_type": "execute_result"
    }
   ],
   "source": [
    "show(csvfile)"
   ]
  },
  {
   "cell_type": "code",
   "execution_count": null,
   "metadata": {},
   "outputs": [],
   "source": []
  }
 ],
 "metadata": {
  "kernelspec": {
   "display_name": "Python 3",
   "language": "python",
   "name": "python3"
  },
  "language_info": {
   "codemirror_mode": {
    "name": "ipython",
    "version": 3
   },
   "file_extension": ".py",
   "mimetype": "text/x-python",
   "name": "python",
   "nbconvert_exporter": "python",
   "pygments_lexer": "ipython3",
   "version": "3.10.11"
  },
  "orig_nbformat": 4
 },
 "nbformat": 4,
 "nbformat_minor": 2
}
