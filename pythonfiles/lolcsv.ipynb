{
 "cells": [
  {
   "cell_type": "code",
   "execution_count": 2,
   "metadata": {},
   "outputs": [],
   "source": [
    "import pandas as pd\n",
    "import requests\n",
    "from pandasgui import show"
   ]
  },
  {
   "cell_type": "code",
   "execution_count": 3,
   "metadata": {},
   "outputs": [],
   "source": [
    "chnames = requests.get(\"https://ddragon.leagueoflegends.com/cdn/14.19.1/data/en_US/champion.json\").json()[\"data\"]\n"
   ]
  },
  {
   "cell_type": "code",
   "execution_count": 4,
   "metadata": {},
   "outputs": [],
   "source": [
    "csvfile = pd.DataFrame(index=chnames, columns=[\"Title\", \"Lore\",\"P\",\"PD\",\"Q\",\"QD\",\"W\",\"WD\",\"E\",\"ED\",\"R\",\"RD\"])"
   ]
  },
  {
   "cell_type": "code",
   "execution_count": 5,
   "metadata": {},
   "outputs": [],
   "source": [
    "for name in chnames:\n",
    "    url = f\"https://ddragon.leagueoflegends.com/cdn/14.19.1/data/en_US/champion/{name}.json\"\n",
    "    churl = requests.get(url)\n",
    "    chjson: dict = churl.json()\n",
    "    if churl.status_code == 200:\n",
    "        csvfile.loc[name] = [chjson[\"data\"][name][\"title\"],\n",
    "                            chjson[\"data\"][name][\"lore\"],\n",
    "                            chjson[\"data\"][name][\"passive\"][\"name\"],\n",
    "                            chjson[\"data\"][name][\"passive\"][\"description\"],\n",
    "                            chjson[\"data\"][name][\"spells\"][0][\"name\"],\n",
    "                            chjson[\"data\"][name][\"spells\"][0][\"description\"],\n",
    "                            chjson[\"data\"][name][\"spells\"][1][\"name\"],\n",
    "                            chjson[\"data\"][name][\"spells\"][1][\"description\"],\n",
    "                            chjson[\"data\"][name][\"spells\"][2][\"name\"],\n",
    "                            chjson[\"data\"][name][\"spells\"][2][\"description\"],\n",
    "                            chjson[\"data\"][name][\"spells\"][3][\"name\"],\n",
    "                            chjson[\"data\"][name][\"spells\"][3][\"description\"]]\n",
    "        "
   ]
  },
  {
   "cell_type": "code",
   "execution_count": 6,
   "metadata": {},
   "outputs": [
    {
     "name": "stderr",
     "output_type": "stream",
     "text": [
      "PandasGUI INFO — pandasgui.gui — Opening PandasGUI\n",
      "C:\\Users\\ASUS\\AppData\\Local\\Temp\\ipykernel_11672\\272893028.py:1: FutureWarning: Series.__getitem__ treating keys as positions is deprecated. In a future version, integer keys will always be treated as labels (consistent with DataFrame behavior). To access a value by position, use `ser.iloc[pos]`\n",
      "  show(csvfile)\n",
      "C:\\Users\\ASUS\\AppData\\Local\\Temp\\ipykernel_11672\\272893028.py:1: FutureWarning: Series.__getitem__ treating keys as positions is deprecated. In a future version, integer keys will always be treated as labels (consistent with DataFrame behavior). To access a value by position, use `ser.iloc[pos]`\n",
      "  show(csvfile)\n",
      "C:\\Users\\ASUS\\AppData\\Local\\Temp\\ipykernel_11672\\272893028.py:1: FutureWarning:\n",
      "\n",
      "Series.__getitem__ treating keys as positions is deprecated. In a future version, integer keys will always be treated as labels (consistent with DataFrame behavior). To access a value by position, use `ser.iloc[pos]`\n",
      "\n",
      "C:\\Users\\ASUS\\AppData\\Local\\Temp\\ipykernel_11672\\272893028.py:1: FutureWarning:\n",
      "\n",
      "Series.__getitem__ treating keys as positions is deprecated. In a future version, integer keys will always be treated as labels (consistent with DataFrame behavior). To access a value by position, use `ser.iloc[pos]`\n",
      "\n",
      "C:\\Users\\ASUS\\AppData\\Local\\Temp\\ipykernel_11672\\272893028.py:1: FutureWarning:\n",
      "\n",
      "Series.__getitem__ treating keys as positions is deprecated. In a future version, integer keys will always be treated as labels (consistent with DataFrame behavior). To access a value by position, use `ser.iloc[pos]`\n",
      "\n",
      "C:\\Users\\ASUS\\AppData\\Local\\Temp\\ipykernel_11672\\272893028.py:1: FutureWarning:\n",
      "\n",
      "Series.__getitem__ treating keys as positions is deprecated. In a future version, integer keys will always be treated as labels (consistent with DataFrame behavior). To access a value by position, use `ser.iloc[pos]`\n",
      "\n"
     ]
    },
    {
     "data": {
      "text/plain": [
       "<pandasgui.gui.PandasGui at 0x1dd9912d0a0>"
      ]
     },
     "execution_count": 6,
     "metadata": {},
     "output_type": "execute_result"
    }
   ],
   "source": [
    "show(csvfile)"
   ]
  },
  {
   "cell_type": "code",
   "execution_count": 7,
   "metadata": {},
   "outputs": [],
   "source": [
    "csvfile.to_csv(\"champtext.csv\")"
   ]
  }
 ],
 "metadata": {
  "kernelspec": {
   "display_name": "Python 3",
   "language": "python",
   "name": "python3"
  },
  "language_info": {
   "codemirror_mode": {
    "name": "ipython",
    "version": 3
   },
   "file_extension": ".py",
   "mimetype": "text/x-python",
   "name": "python",
   "nbconvert_exporter": "python",
   "pygments_lexer": "ipython3",
   "version": "3.12.5"
  },
  "orig_nbformat": 4
 },
 "nbformat": 4,
 "nbformat_minor": 2
}
